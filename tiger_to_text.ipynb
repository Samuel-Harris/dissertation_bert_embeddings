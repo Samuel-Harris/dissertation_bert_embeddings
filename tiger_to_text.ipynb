{
 "cells": [
  {
   "cell_type": "code",
   "execution_count": 2,
   "id": "1ec82c66",
   "metadata": {},
   "outputs": [],
   "source": [
    "import re"
   ]
  },
  {
   "cell_type": "code",
   "execution_count": 3,
   "id": "34cf5708",
   "metadata": {},
   "outputs": [],
   "source": [
    "import xml.etree.ElementTree as ET"
   ]
  },
  {
   "cell_type": "code",
   "execution_count": 17,
   "id": "3405fe96",
   "metadata": {},
   "outputs": [],
   "source": [
    "tree = ET.parse('example_text.txt')"
   ]
  },
  {
   "cell_type": "code",
   "execution_count": 18,
   "id": "e023f059",
   "metadata": {},
   "outputs": [],
   "source": [
    "sentences = [sentence for sentence in tree.getroot().findall('./s')]"
   ]
  },
  {
   "cell_type": "code",
   "execution_count": 19,
   "id": "d869ceb1",
   "metadata": {},
   "outputs": [
    {
     "name": "stdout",
     "output_type": "stream",
     "text": [
      "50472\n"
     ]
    }
   ],
   "source": [
    "print(len(sentences))"
   ]
  },
  {
   "cell_type": "code",
   "execution_count": 29,
   "id": "86f831a5",
   "metadata": {},
   "outputs": [],
   "source": [
    "with open('output.txt', 'w') as f:\n",
    "    for sentence in sentences:\n",
    "        tokens = [token.attrib['word'] for token in sentence.findall('./graph/terminals/t')]\n",
    "        f.write(sentence.attrib['id'] + ':' + ' '.join(tokens) + \"\\n\")"
   ]
  }
 ],
 "metadata": {
  "kernelspec": {
   "display_name": "local-venv",
   "language": "python",
   "name": "local-venv"
  },
  "language_info": {
   "codemirror_mode": {
    "name": "ipython",
    "version": 3
   },
   "file_extension": ".py",
   "mimetype": "text/x-python",
   "name": "python",
   "nbconvert_exporter": "python",
   "pygments_lexer": "ipython3",
   "version": "3.10.7"
  }
 },
 "nbformat": 4,
 "nbformat_minor": 5
}
